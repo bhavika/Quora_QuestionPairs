{
 "cells": [
  {
   "cell_type": "code",
   "execution_count": 1,
   "metadata": {
    "collapsed": true
   },
   "outputs": [],
   "source": [
    "from fuzzywuzzy import fuzz\n",
    "from fuzzywuzzy import process\n",
    "import pandas as pd"
   ]
  },
  {
   "cell_type": "code",
   "execution_count": 3,
   "metadata": {
    "collapsed": false
   },
   "outputs": [],
   "source": [
    "train = pd.read_pickle('../data/train.pkl')\n",
    "test = pd.read_pickle('../data/test.pkl')"
   ]
  },
  {
   "cell_type": "code",
   "execution_count": 7,
   "metadata": {
    "collapsed": false
   },
   "outputs": [],
   "source": [
    "# Calculate fuzzy features\n",
    "\n",
    "def calc_qratio(row):\n",
    "    # using cleaned questions\n",
    "    q1 = str(row[0]).lower()\n",
    "    q2 = str(row[1]).lower()\n",
    "    return fuzz.QRatio(q1, q2)\n",
    "\n",
    "def calc_wratio(row):\n",
    "    q1 = str(row[0]).lower()\n",
    "    q2 = str(row[1]).lower()\n",
    "    return fuzz.WRatio(q1, q2)\n",
    "\n",
    "\n",
    "def calc_partialratio(row):\n",
    "    q1 = str(row[0]).lower()\n",
    "    q2 = str(row[1]).lower()\n",
    "    return fuzz.partial_ratio(q1, q2)\n",
    "\n",
    "def calc_partial_tokenset_ratio(row):\n",
    "    q1 = str(row[0]).lower()\n",
    "    q2 = str(row[1]).lower()\n",
    "    return fuzz.partial_token_sort_ratio(q1, q2)\n",
    "\n",
    "def calc_tokensort_ratio(row):\n",
    "    q1 = str(row[0]).lower()\n",
    "    q2 = str(row[1]).lower()\n",
    "    return fuzz.token_sort_ratio(q1, q2)\n",
    "\n",
    "\n",
    "def calc_tokenset_ratio(row):\n",
    "    q1 = str(row[0]).lower()\n",
    "    q2 = str(row[1]).lower()\n",
    "    return fuzz.token_set_ratio(q1, q2)\n",
    "    \n",
    "    \n",
    "def calculate_featureset2(dataframe):\n",
    "    dataframe['qratio'] = dataframe.apply(calc_qratio, axis=1, raw=True)\n",
    "    dataframe['wratio'] = dataframe.apply(calc_wratio, axis=1, raw=True)\n",
    "    dataframe['partial_ratio'] = dataframe.apply(calc_partialratio, axis=1, raw=True)\n",
    "    dataframe['partial_tokenset'] = dataframe.apply(calc_partial_tokenset_ratio, axis=1, raw=True)\n",
    "    dataframe['tokenset'] = dataframe.apply(calc_tokenset_ratio, axis=1, raw=True)\n",
    "    dataframe['partial_tokensort'] = dataframe.apply(calc_tokensort_ratio, axis=1, raw=True)\n",
    "    return dataframe\n",
    "\n",
    "train = calculate_featureset2(train)"
   ]
  },
  {
   "cell_type": "code",
   "execution_count": 9,
   "metadata": {
    "collapsed": false
   },
   "outputs": [],
   "source": [
    "test = calculate_featureset2(test)\n",
    "\n",
    "train.to_pickle('../data/train.pkl')\n",
    "test.to_pickle('../data/test.pkl')"
   ]
  },
  {
   "cell_type": "code",
   "execution_count": null,
   "metadata": {
    "collapsed": true
   },
   "outputs": [],
   "source": []
  }
 ],
 "metadata": {
  "anaconda-cloud": {},
  "kernelspec": {
   "display_name": "Python [conda root]",
   "language": "python",
   "name": "conda-root-py"
  },
  "language_info": {
   "codemirror_mode": {
    "name": "ipython",
    "version": 2
   },
   "file_extension": ".py",
   "mimetype": "text/x-python",
   "name": "python",
   "nbconvert_exporter": "python",
   "pygments_lexer": "ipython2",
   "version": "2.7.12"
  }
 },
 "nbformat": 4,
 "nbformat_minor": 2
}
